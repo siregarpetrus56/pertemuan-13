{
 "cells": [
  {
   "cell_type": "code",
   "execution_count": 10,
   "metadata": {},
   "outputs": [
    {
     "ename": "ModuleNotFoundError",
     "evalue": "No module named 'DisjointSet'",
     "output_type": "error",
     "traceback": [
      "\u001b[1;31m---------------------------------------------------------------------------\u001b[0m",
      "\u001b[1;31mModuleNotFoundError\u001b[0m                       Traceback (most recent call last)",
      "Cell \u001b[1;32mIn[10], line 5\u001b[0m\n\u001b[0;32m      1\u001b[0m \u001b[39m#   Created by Elshad Karimov \u001b[39;00m\n\u001b[0;32m      2\u001b[0m \u001b[39m#   Copyright © 2021 AppMillers. All rights reserved.\u001b[39;00m\n\u001b[0;32m      3\u001b[0m \n\u001b[0;32m      4\u001b[0m \u001b[39m# Kruskal Algorithm  in Python\u001b[39;00m\n\u001b[1;32m----> 5\u001b[0m \u001b[39mimport\u001b[39;00m \u001b[39mDisjointSet\u001b[39;00m \u001b[39mas\u001b[39;00m \u001b[39mdst\u001b[39;00m\n\u001b[0;32m      7\u001b[0m \u001b[39mclass\u001b[39;00m \u001b[39mGraph\u001b[39;00m:\n\u001b[0;32m      8\u001b[0m     \u001b[39mdef\u001b[39;00m \u001b[39m__init__\u001b[39m(\u001b[39mself\u001b[39m, vertices):\n",
      "\u001b[1;31mModuleNotFoundError\u001b[0m: No module named 'DisjointSet'"
     ]
    }
   ],
   "source": [
    "#   Created by Elshad Karimov \n",
    "#   Copyright © 2021 AppMillers. All rights reserved.\n",
    "\n",
    "# Kruskal Algorithm  in Python\n",
    "import DisjointSet as dst\n",
    "\n",
    "class Graph:\n",
    "    def __init__(self, vertices):\n",
    "        self.V = vertices\n",
    "        self.graph = []\n",
    "        self.nodes = []\n",
    "        self.MST = []\n",
    "\n",
    "    def addEdge(self, s, d, w):\n",
    "        self.graph.append([s, d, w])\n",
    "    \n",
    "    def addNode(self, value):\n",
    "        self.nodes.append(value)\n",
    "    \n",
    "    def printSolution(self,s,d,w):\n",
    "        for s, d, w in self.MST:\n",
    "            print(\"%s - %s: %s\" % (s, d, w))\n",
    "    \n",
    "    def kruskalAlgo(self):\n",
    "        i, e = 0, 0\n",
    "        ds = dst.DisjointSet(self.nodes)\n",
    "        self.graph = sorted(self.graph, key=lambda item: item[2])\n",
    "        while e < self.V - 1:\n",
    "            s, d, w = self.graph[i]\n",
    "            i += 1\n",
    "            x = ds.find(s)\n",
    "            y = ds.find(d)\n",
    "            if x != y:\n",
    "                e += 1\n",
    "                self.MST.append([s,d,w])\n",
    "                ds.union(x,y)\n",
    "        self.printSolution(s,d,w)\n",
    "\n",
    "g = Graph(5)\n",
    "g.addNode(\"A\")\n",
    "g.addNode(\"B\")\n",
    "g.addNode(\"C\")\n",
    "g.addNode(\"D\")\n",
    "g.addNode(\"E\")\n",
    "g.addEdge(\"A\", \"B\", 5)\n",
    "g.addEdge(\"A\", \"C\", 13)\n",
    "g.addEdge(\"A\", \"E\", 15)\n",
    "g.addEdge(\"B\", \"A\", 5)\n",
    "g.addEdge(\"B\", \"C\", 10)\n",
    "g.addEdge(\"B\", \"D\", 8)\n",
    "g.addEdge(\"C\", \"A\", 13)\n",
    "g.addEdge(\"C\", \"B\", 10)\n",
    "g.addEdge(\"C\", \"E\", 20)\n",
    "g.addEdge(\"C\", \"D\", 6)\n",
    "g.addEdge(\"D\", \"B\", 8)\n",
    "g.addEdge(\"D\", \"C\", 6)\n",
    "g.addEdge(\"E\", \"A\", 15)\n",
    "g.addEdge(\"E\", \"C\", 20)\n",
    "\n",
    "g.kruskalAlgo()"
   ]
  }
 ],
 "metadata": {
  "kernelspec": {
   "display_name": "Python 3",
   "language": "python",
   "name": "python3"
  },
  "language_info": {
   "codemirror_mode": {
    "name": "ipython",
    "version": 3
   },
   "file_extension": ".py",
   "mimetype": "text/x-python",
   "name": "python",
   "nbconvert_exporter": "python",
   "pygments_lexer": "ipython3",
   "version": "3.10.10"
  },
  "orig_nbformat": 4
 },
 "nbformat": 4,
 "nbformat_minor": 2
}
