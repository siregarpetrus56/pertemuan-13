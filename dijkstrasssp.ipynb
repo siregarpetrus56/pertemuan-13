{
 "cells": [
  {
   "cell_type": "code",
   "execution_count": 1,
   "metadata": {},
   "outputs": [
    {
     "name": "stdout",
     "output_type": "stream",
     "text": [
      "({'A': 0, 'B': 2, 'C': 5, 'D': 3, 'E': 5, 'G': 14, 'F': 13}, defaultdict(<class 'list'>, {'B': ['A'], 'C': ['A'], 'D': ['B'], 'E': ['B'], 'G': ['E'], 'F': ['C']}))\n"
     ]
    }
   ],
   "source": [
    "from collections import defaultdict\n",
    "\n",
    "class Graph:\n",
    "    def __init__(self):\n",
    "        self.nodes = set()\n",
    "        self.edges = defaultdict(list)\n",
    "        self.distances = {}\n",
    "    \n",
    "    def addNode(self,value):\n",
    "        self.nodes.add(value)\n",
    "    \n",
    "    def addEdge(self, fromNode, toNode, distance):\n",
    "        self.edges[fromNode].append(toNode)\n",
    "        self.distances[(fromNode, toNode)] = distance\n",
    "\n",
    "\n",
    "def dijkstra(graph, initial):\n",
    "    visited = {initial : 0}\n",
    "    path = defaultdict(list)\n",
    "\n",
    "    nodes = set(graph.nodes)\n",
    "\n",
    "    while nodes:\n",
    "        minNode = None\n",
    "        for node in nodes:\n",
    "            if node in visited:\n",
    "                if minNode is None:\n",
    "                    minNode = node\n",
    "                elif visited[node] < visited[minNode]:\n",
    "                    minNode = node\n",
    "        if minNode is None:\n",
    "            break\n",
    "\n",
    "        nodes.remove(minNode)\n",
    "        currentWeight = visited[minNode]\n",
    "\n",
    "        for edge in graph.edges[minNode]:\n",
    "            weight = currentWeight + graph.distances[(minNode, edge)]\n",
    "            if edge not in visited or weight < visited[edge]:\n",
    "                visited[edge] = weight\n",
    "                path[edge].append(minNode)\n",
    "    \n",
    "    return visited, path\n",
    "\n",
    "customGraph = Graph()\n",
    "customGraph.addNode(\"A\")\n",
    "customGraph.addNode(\"B\")\n",
    "customGraph.addNode(\"C\")\n",
    "customGraph.addNode(\"D\")\n",
    "customGraph.addNode(\"E\")\n",
    "customGraph.addNode(\"F\")\n",
    "customGraph.addNode(\"G\")\n",
    "customGraph.addEdge(\"A\", \"B\", 2)\n",
    "customGraph.addEdge(\"A\", \"C\", 5)\n",
    "customGraph.addEdge(\"B\", \"C\", 6)\n",
    "customGraph.addEdge(\"B\", \"D\", 1)\n",
    "customGraph.addEdge(\"B\", \"E\", 3)\n",
    "customGraph.addEdge(\"C\", \"F\", 8)\n",
    "customGraph.addEdge(\"D\", \"E\", 4)\n",
    "customGraph.addEdge(\"E\", \"G\", 9)\n",
    "customGraph.addEdge(\"F\", \"G\", 7)\n",
    "\n",
    "print(dijkstra(customGraph, \"A\"))\n",
    "\n",
    "\n",
    "# See change the distance from d to e to 1 and from b to e to 6.\n",
    "# then to get to e from a ,\n",
    "# shortest path should be a b d e\n",
    "# but your code is giving a b e"
   ]
  }
 ],
 "metadata": {
  "kernelspec": {
   "display_name": "Python 3",
   "language": "python",
   "name": "python3"
  },
  "language_info": {
   "codemirror_mode": {
    "name": "ipython",
    "version": 3
   },
   "file_extension": ".py",
   "mimetype": "text/x-python",
   "name": "python",
   "nbconvert_exporter": "python",
   "pygments_lexer": "ipython3",
   "version": "3.10.10"
  },
  "orig_nbformat": 4
 },
 "nbformat": 4,
 "nbformat_minor": 2
}
